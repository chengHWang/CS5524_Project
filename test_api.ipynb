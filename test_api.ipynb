{
 "cells": [
  {
   "cell_type": "code",
   "execution_count": 1,
   "metadata": {},
   "outputs": [],
   "source": [
    "import requests\n",
    "import math\n",
    "\n",
    "api_carpark_availability = 'https://api.data.gov.sg/v1/transport/carpark-availability'  # This dataset doesn't contain the coods of carpark\n",
    "api_pollutant_standard = 'https://api.data.gov.sg/v1/environment/psi'\n",
    "api_air_temperature = 'https://api.data.gov.sg/v1/environment/air-temperature'\n",
    "api_ultra_violet = 'https://api.data.gov.sg/v1/environment/uv-index'\n",
    "api_pm25 = 'https://api.data.gov.sg/v1/environment/pm25'\n",
    "apiList = [api_carpark_availability, api_pollutant_standard, api_air_temperature, api_ultra_violet, api_pm25]\n",
    "\n",
    "def _check_api_availability():\n",
    "  ava = True\n",
    "  for api in apiList:\n",
    "    response = requests.get(api)\n",
    "    if response.status_code != 200:\n",
    "      ava = False\n",
    "  return ava\n",
    "\n",
    "def _find_closest_cood(la, lo, dic):\n",
    "  # dic: {'name of cood':[la, lo]}\n",
    "  # return the name of the cood which is closest to the input (la,lo)\n",
    "  closest_key = ''\n",
    "  min_distance = 999\n",
    "  for key in dic:\n",
    "    cood = dic[key]\n",
    "    distance = math.sqrt((la-cood[0])**2 + (lo-cood[1])**2)\n",
    "    # print(la,lo,cood)\n",
    "    # print(key, distance)\n",
    "    if distance < min_distance:\n",
    "      closest_key = key\n",
    "      min_distance = distance\n",
    "  return closest_key\n",
    "\n",
    "def _get_pollutant_standard(la,lo):\n",
    "  response = requests.get(api_pollutant_standard)\n",
    "\n",
    "  temp = response.json()\n",
    "\n",
    "  region_metadata = temp['region_metadata']\n",
    "  coods = {}\n",
    "  for region in region_metadata:\n",
    "    name = region['name']\n",
    "    region_la = region['label_location']['latitude']\n",
    "    region_lo = region['label_location']['longitude']\n",
    "    coods[name] = [region_la, region_lo]\n",
    "  # print(coods)\n",
    "  \n",
    "  best_key = _find_closest_cood(la, lo, coods)\n",
    "  # print(best_key)\n",
    "\n",
    "  update_timestamp = temp['items'][0]['update_timestamp']\n",
    "  # print(update_timestamp)\n",
    "\n",
    "  readings = temp['items'][0]['readings']\n",
    "  # print(readings)\n",
    "  values = {}\n",
    "  for key in readings:\n",
    "    values[key] = readings[key][best_key]\n",
    "\n",
    "  return values, update_timestamp\n",
    "\n",
    "# _get_pollutant_standard(1.35735,103.94)\n",
    "\n",
    "def _get_carpark():\n",
    "  response = requests.get(api_carpark_availability)\n",
    "  temp = response.json()['items'][0]\n",
    "  print(type(temp))\n",
    "  print(temp.keys())\n",
    "\n",
    "# _get_carpark()\n",
    "\n",
    "def _get_pm25_by_coordinate(la,lo):\n",
    "  # print(la, lo)\n",
    "  response = requests.get(api_pm25)\n",
    "\n",
    "  update_timestamp = (response.json()['items'])[0]['update_timestamp']\n",
    "  values = (response.json()['items'])[0]['readings']['pm25_one_hourly']\n",
    "  \n",
    "  locs = (response.json()['region_metadata'])\n",
    "  coods = {}\n",
    "  for loc in locs:\n",
    "    name = loc['name']\n",
    "    loc_la = loc['label_location']['latitude']\n",
    "    loc_lo = loc['label_location']['longitude']\n",
    "    coods[name] = [loc_la,loc_lo]\n",
    "\n",
    "  # print(values)\n",
    "  # print(coods)\n",
    "  best_key = _find_closest_cood(la, lo, coods)\n",
    "  return values[best_key], update_timestamp\n",
    "\n",
    "# _get_pm25_by_coordinate(1.41803,103.82)\n",
    "\n",
    "def _get_uv():\n",
    "  response = requests.get(api_ultra_violet)\n",
    "  temp = response.json()['items'][0]['index']\n",
    "  # print(temp)\n",
    "  latestData = temp[0]\n",
    "  return latestData['value'], latestData['timestamp']\n",
    "\n",
    "# _get_uv()\n",
    "\n",
    "def _get_air_temp_by_coordinate(la,lo):\n",
    "  response = requests.get(api_air_temperature)\n",
    "\n",
    "  temp = response.json()\n",
    "\n",
    "  metadata = temp['metadata']['stations']\n",
    "  coods = {}\n",
    "  for station in metadata:\n",
    "    station_id = station['id']\n",
    "    station_la = station['location']['latitude']\n",
    "    station_lo = station['location']['longitude']\n",
    "    coods[station_id] = [station_la, station_lo]\n",
    "  # print(coods)\n",
    "\n",
    "  items = temp['items'][0]\n",
    "  timestamp = items['timestamp']\n",
    "  readings = items['readings']\n",
    "  values = {}\n",
    "  for station in readings:\n",
    "    id = station['station_id']\n",
    "    value = station['value']\n",
    "    values[id] = value\n",
    "  # print(values)\n",
    "\n",
    "  best_key = _find_closest_cood(la, lo, coods)\n",
    "  # print(best_key)\n",
    "\n",
    "  return values[best_key], timestamp\n",
    "\n",
    "# _get_air_temp_by_coordinate(1.3135,103.9625)"
   ]
  },
  {
   "cell_type": "code",
   "execution_count": 2,
   "metadata": {},
   "outputs": [
    {
     "data": {
      "text/plain": [
       "(27.1, '2022-04-10T02:30:00+08:00')"
      ]
     },
     "execution_count": 2,
     "metadata": {},
     "output_type": "execute_result"
    }
   ],
   "source": [
    "_get_air_temp_by_coordinate(1.3135,103.9625)"
   ]
  },
  {
   "cell_type": "code",
   "execution_count": 3,
   "metadata": {},
   "outputs": [
    {
     "data": {
      "text/plain": [
       "(0, '2022-04-09T19:00:00+08:00')"
      ]
     },
     "execution_count": 3,
     "metadata": {},
     "output_type": "execute_result"
    }
   ],
   "source": [
    "_get_uv()"
   ]
  },
  {
   "cell_type": "code",
   "execution_count": 5,
   "metadata": {},
   "outputs": [
    {
     "name": "stdout",
     "output_type": "stream",
     "text": [
      "{'west': 7, 'east': 18, 'central': 19, 'south': 11, 'north': 22}\n"
     ]
    },
    {
     "data": {
      "text/plain": [
       "(18, '2022-04-10T02:08:52+08:00')"
      ]
     },
     "execution_count": 5,
     "metadata": {},
     "output_type": "execute_result"
    }
   ],
   "source": [
    "_get_pm25_by_coordinate(1.3135,103.9625)"
   ]
  },
  {
   "cell_type": "code",
   "execution_count": 7,
   "metadata": {},
   "outputs": [
    {
     "data": {
      "text/plain": [
       "({'o3_sub_index': 12,\n",
       "  'pm10_twenty_four_hourly': 36,\n",
       "  'pm10_sub_index': 36,\n",
       "  'co_sub_index': 3,\n",
       "  'pm25_twenty_four_hourly': 13,\n",
       "  'so2_sub_index': 7,\n",
       "  'co_eight_hour_max': 0.29,\n",
       "  'no2_one_hour_max': 24,\n",
       "  'so2_twenty_four_hourly': 11,\n",
       "  'pm25_sub_index': 52,\n",
       "  'psi_twenty_four_hourly': 52,\n",
       "  'o3_eight_hour_max': 29},\n",
       " '2022-04-10T00:08:54+08:00')"
      ]
     },
     "execution_count": 7,
     "metadata": {},
     "output_type": "execute_result"
    }
   ],
   "source": [
    "_get_pollutant_standard(1.3135,103.9625)"
   ]
  },
  {
   "cell_type": "code",
   "execution_count": 8,
   "metadata": {},
   "outputs": [],
   "source": [
    "temp, time = _get_air_temp_by_coordinate(1.3135,103.9625)"
   ]
  },
  {
   "cell_type": "code",
   "execution_count": 9,
   "metadata": {},
   "outputs": [
    {
     "data": {
      "text/plain": [
       "'2022-04-10T01:45:00+08:00'"
      ]
     },
     "execution_count": 9,
     "metadata": {},
     "output_type": "execute_result"
    }
   ],
   "source": [
    "time"
   ]
  },
  {
   "cell_type": "code",
   "execution_count": 17,
   "metadata": {},
   "outputs": [
    {
     "data": {
      "text/plain": [
       "['01', '45', '00+08', '00']"
      ]
     },
     "execution_count": 17,
     "metadata": {},
     "output_type": "execute_result"
    }
   ],
   "source": [
    "time.split('T')[1].split(':')"
   ]
  },
  {
   "cell_type": "code",
   "execution_count": null,
   "metadata": {},
   "outputs": [],
   "source": [
    "h"
   ]
  }
 ],
 "metadata": {
  "interpreter": {
   "hash": "1c72a0819dfe3469e5207a61c508cecb46c59969f57595d2ee3733e1636d0909"
  },
  "kernelspec": {
   "display_name": "Python 3.9.7 ('dsml')",
   "language": "python",
   "name": "python3"
  },
  "language_info": {
   "codemirror_mode": {
    "name": "ipython",
    "version": 3
   },
   "file_extension": ".py",
   "mimetype": "text/x-python",
   "name": "python",
   "nbconvert_exporter": "python",
   "pygments_lexer": "ipython3",
   "version": "3.9.12"
  },
  "orig_nbformat": 4
 },
 "nbformat": 4,
 "nbformat_minor": 2
}
